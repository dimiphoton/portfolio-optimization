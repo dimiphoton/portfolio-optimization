{
 "cells": [
  {
   "cell_type": "code",
   "execution_count": 1,
   "metadata": {},
   "outputs": [
    {
     "ename": "ModuleNotFoundError",
     "evalue": "No module named 'riskfolio.PlotFunctions'",
     "output_type": "error",
     "traceback": [
      "\u001b[0;31m---------------------------------------------------------------------------\u001b[0m",
      "\u001b[0;31mModuleNotFoundError\u001b[0m                       Traceback (most recent call last)",
      "Cell \u001b[0;32mIn[1], line 12\u001b[0m\n\u001b[1;32m     10\u001b[0m \u001b[39mfrom\u001b[39;00m \u001b[39mmodels\u001b[39;00m\u001b[39m.\u001b[39;00m\u001b[39mprophet_model\u001b[39;00m \u001b[39mimport\u001b[39;00m ProphetModel\n\u001b[1;32m     11\u001b[0m \u001b[39mfrom\u001b[39;00m \u001b[39mportfolio_utils\u001b[39;00m \u001b[39mimport\u001b[39;00m PortfolioOptimizer\n\u001b[0;32m---> 12\u001b[0m \u001b[39mfrom\u001b[39;00m \u001b[39mplot_utils\u001b[39;00m \u001b[39mimport\u001b[39;00m plot_efficient_frontier, plot_forecast, plot_monte_carlo_simulation, plot_donut_repartition\n",
      "File \u001b[0;32m~/BeCode/portfolio-optimization/plot_utils.py:6\u001b[0m\n\u001b[1;32m      4\u001b[0m \u001b[39mfrom\u001b[39;00m \u001b[39mtyping\u001b[39;00m \u001b[39mimport\u001b[39;00m Optional\n\u001b[1;32m      5\u001b[0m \u001b[39mimport\u001b[39;00m \u001b[39mos\u001b[39;00m\n\u001b[0;32m----> 6\u001b[0m \u001b[39mimport\u001b[39;00m \u001b[39mriskfolio\u001b[39;00m\u001b[39m.\u001b[39;00m\u001b[39mPlotFunctions\u001b[39;00m \u001b[39mas\u001b[39;00m \u001b[39mplf\u001b[39;00m\n\u001b[1;32m      7\u001b[0m \u001b[39mimport\u001b[39;00m \u001b[39mseaborn\u001b[39;00m \u001b[39mas\u001b[39;00m \u001b[39msns\u001b[39;00m\n\u001b[1;32m      8\u001b[0m \u001b[39mimport\u001b[39;00m \u001b[39munittest\u001b[39;00m\n",
      "\u001b[0;31mModuleNotFoundError\u001b[0m: No module named 'riskfolio.PlotFunctions'"
     ]
    }
   ],
   "source": [
    "from constants import get_top_n_market_cap_stocks\n",
    "list_stocks=get_top_n_market_cap_stocks(20)\n",
    "import yfinance as yf\n",
    "import pandas as pd\n",
    "import numpy as np\n",
    "import os\n",
    "\n",
    "from data_downloader import download_and_save_stock_data\n",
    "from constants import N_LARGEST_COMPANIES\n",
    "from models.prophet_model import ProphetModel\n",
    "from portfolio_utils import PortfolioOptimizer\n",
    "from plot_utils import plot_efficient_frontier, plot_forecast, plot_monte_carlo_simulation, plot_donut_repartition"
   ]
  },
  {
   "cell_type": "code",
   "execution_count": null,
   "metadata": {},
   "outputs": [],
   "source": [
    "stock_symbols = get_n_largest_companies(N_LARGEST_COMPANIES)\n",
    "download_stock_data(stock_symbols)\n"
   ]
  },
  {
   "cell_type": "code",
   "execution_count": null,
   "metadata": {},
   "outputs": [],
   "source": [
    "stock_data = {}\n",
    "for stock in stock_symbols:\n",
    "    stock_data[stock] = pd.read_csv(os.path.join(STOCKS_DIR, stock, 'historical_data.csv'), index_col=0, parse_dates=True)['Adj Close']\n",
    "\n",
    "stock_returns = pd.DataFrame(stock_data).pct_change().dropna()\n"
   ]
  },
  {
   "cell_type": "code",
   "execution_count": null,
   "metadata": {},
   "outputs": [],
   "source": [
    "model = ProphetModel()\n",
    "model.fit(stock_returns)\n"
   ]
  },
  {
   "cell_type": "code",
   "execution_count": null,
   "metadata": {},
   "outputs": [],
   "source": [
    "portfolio_optimizer = PortfolioOptimizer(stock_returns)\n",
    "portfolio_optimizer.calculate_metrics()\n",
    "portfolio_optimizer.optimize()\n"
   ]
  },
  {
   "cell_type": "code",
   "execution_count": null,
   "metadata": {},
   "outputs": [],
   "source": [
    "plot_efficient_frontier(portfolio_optimizer.portfolio)\n",
    "plot_forecast(stock_returns, model, periods=365)\n",
    "plot_monte_carlo_simulation(portfolio_optimizer.portfolio, periods=365, simulations=1000)\n",
    "plot_donut_repartition(portfolio_optimizer.portfolio)\n"
   ]
  }
 ],
 "metadata": {
  "kernelspec": {
   "display_name": "portfolio",
   "language": "python",
   "name": "python3"
  },
  "language_info": {
   "codemirror_mode": {
    "name": "ipython",
    "version": 3
   },
   "file_extension": ".py",
   "mimetype": "text/x-python",
   "name": "python",
   "nbconvert_exporter": "python",
   "pygments_lexer": "ipython3",
   "version": "3.10.9"
  },
  "orig_nbformat": 4
 },
 "nbformat": 4,
 "nbformat_minor": 2
}
