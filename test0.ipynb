{
 "cells": [
  {
   "cell_type": "code",
   "execution_count": 1,
   "metadata": {},
   "outputs": [],
   "source": [
    "from step1 import *"
   ]
  },
  {
   "cell_type": "code",
   "execution_count": 2,
   "metadata": {},
   "outputs": [],
   "source": [
    "df=load_csv('AAPL')"
   ]
  },
  {
   "cell_type": "code",
   "execution_count": 3,
   "metadata": {},
   "outputs": [
    {
     "name": "stderr",
     "output_type": "stream",
     "text": [
      "04:28:03 - cmdstanpy - INFO - Chain [1] start processing\n",
      "04:28:06 - cmdstanpy - INFO - Chain [1] done processing\n"
     ]
    }
   ],
   "source": [
    "model=fit_model('AAPL',False)"
   ]
  },
  {
   "cell_type": "code",
   "execution_count": 4,
   "metadata": {},
   "outputs": [
    {
     "ename": "NameError",
     "evalue": "name 'load_stock_data' is not defined",
     "output_type": "error",
     "traceback": [
      "\u001b[0;31m---------------------------------------------------------------------------\u001b[0m",
      "\u001b[0;31mNameError\u001b[0m                                 Traceback (most recent call last)",
      "Cell \u001b[0;32mIn[4], line 1\u001b[0m\n\u001b[0;32m----> 1\u001b[0m plot_training_accuracy(stock_name\u001b[39m=\u001b[39;49m\u001b[39m'\u001b[39;49m\u001b[39mAAPL\u001b[39;49m\u001b[39m'\u001b[39;49m, model\u001b[39m=\u001b[39;49mmodel,save\u001b[39m=\u001b[39;49m\u001b[39mFalse\u001b[39;49;00m,show\u001b[39m=\u001b[39;49m\u001b[39mTrue\u001b[39;49;00m)\n",
      "File \u001b[0;32m~/BeCode/portfolio-optimization/step1.py:63\u001b[0m, in \u001b[0;36mplot_training_accuracy\u001b[0;34m(stock_name, model, save, show)\u001b[0m\n\u001b[1;32m     53\u001b[0m \u001b[39mdef\u001b[39;00m \u001b[39mplot_training_accuracy\u001b[39m(stock_name: \u001b[39mstr\u001b[39m, model:Prophet, save: \u001b[39mbool\u001b[39m \u001b[39m=\u001b[39m \u001b[39mTrue\u001b[39;00m, show: \u001b[39mbool\u001b[39m \u001b[39m=\u001b[39m \u001b[39mTrue\u001b[39;00m) \u001b[39m-\u001b[39m\u001b[39m>\u001b[39m \u001b[39mNone\u001b[39;00m:\n\u001b[1;32m     54\u001b[0m     \u001b[39m\"\"\"\u001b[39;00m\n\u001b[1;32m     55\u001b[0m \u001b[39m    Plot the prediction accuracy on the training set.\u001b[39;00m\n\u001b[1;32m     56\u001b[0m \n\u001b[0;32m   (...)\u001b[0m\n\u001b[1;32m     61\u001b[0m \u001b[39m        show (bool): Whether to display the plot.\u001b[39;00m\n\u001b[1;32m     62\u001b[0m \u001b[39m    \"\"\"\u001b[39;00m\n\u001b[0;32m---> 63\u001b[0m     df \u001b[39m=\u001b[39m load_stock_data(stock_name)\n\u001b[1;32m     64\u001b[0m     forecast \u001b[39m=\u001b[39m model\u001b[39m.\u001b[39mpredict(df)\n\u001b[1;32m     66\u001b[0m     plt\u001b[39m.\u001b[39mplot(df[\u001b[39m'\u001b[39m\u001b[39mds\u001b[39m\u001b[39m'\u001b[39m], df[\u001b[39m'\u001b[39m\u001b[39my\u001b[39m\u001b[39m'\u001b[39m], label\u001b[39m=\u001b[39m\u001b[39m'\u001b[39m\u001b[39mActual\u001b[39m\u001b[39m'\u001b[39m)\n",
      "\u001b[0;31mNameError\u001b[0m: name 'load_stock_data' is not defined"
     ]
    }
   ],
   "source": [
    "plot_training_accuracy(stock_name='AAPL', model=model,save=False,show=True)"
   ]
  }
 ],
 "metadata": {
  "kernelspec": {
   "display_name": "portfolio",
   "language": "python",
   "name": "python3"
  },
  "language_info": {
   "codemirror_mode": {
    "name": "ipython",
    "version": 3
   },
   "file_extension": ".py",
   "mimetype": "text/x-python",
   "name": "python",
   "nbconvert_exporter": "python",
   "pygments_lexer": "ipython3",
   "version": "3.10.9"
  },
  "orig_nbformat": 4
 },
 "nbformat": 4,
 "nbformat_minor": 2
}
