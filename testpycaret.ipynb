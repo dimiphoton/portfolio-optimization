{
 "cells": [
  {
   "cell_type": "code",
   "execution_count": 2,
   "metadata": {},
   "outputs": [
    {
     "data": {
      "text/plain": [
       "'3.0.0'"
      ]
     },
     "execution_count": 2,
     "metadata": {},
     "output_type": "execute_result"
    }
   ],
   "source": [
    "import pandas as pd\n",
    "import pycaret\n",
    "pycaret.__version__"
   ]
  },
  {
   "cell_type": "code",
   "execution_count": null,
   "metadata": {},
   "outputs": [],
   "source": [
    "def get_data"
   ]
  },
  {
   "cell_type": "code",
   "execution_count": 6,
   "metadata": {},
   "outputs": [],
   "source": [
    "# Load data\n",
    "data = pd.read_csv(\"data/Amazon/stock_data.csv\")"
   ]
  },
  {
   "cell_type": "code",
   "execution_count": 8,
   "metadata": {},
   "outputs": [
    {
     "ename": "NameError",
     "evalue": "name 'setup' is not defined",
     "output_type": "error",
     "traceback": [
      "\u001b[0;31m---------------------------------------------------------------------------\u001b[0m",
      "\u001b[0;31mNameError\u001b[0m                                 Traceback (most recent call last)",
      "Cell \u001b[0;32mIn[8], line 7\u001b[0m\n\u001b[1;32m      4\u001b[0m test_data \u001b[39m=\u001b[39m data[train_size:]\n\u001b[1;32m      6\u001b[0m \u001b[39m# Initialize PyCaret time series module\u001b[39;00m\n\u001b[0;32m----> 7\u001b[0m ts \u001b[39m=\u001b[39m setup(data\u001b[39m=\u001b[39mtrain_data, session_id\u001b[39m=\u001b[39m\u001b[39m123\u001b[39m, time_series_features\u001b[39m=\u001b[39m\u001b[39m'\u001b[39m\u001b[39mdate\u001b[39m\u001b[39m'\u001b[39m)\n\u001b[1;32m      9\u001b[0m \u001b[39m# Train and tune ARIMA model\u001b[39;00m\n\u001b[1;32m     10\u001b[0m best_model \u001b[39m=\u001b[39m compare_models(include\u001b[39m=\u001b[39m[\u001b[39m'\u001b[39m\u001b[39marima\u001b[39m\u001b[39m'\u001b[39m])\n",
      "\u001b[0;31mNameError\u001b[0m: name 'setup' is not defined"
     ]
    }
   ],
   "source": [
    "\n",
    "\n",
    "\n",
    "\n",
    "# Split data into train and test sets\n",
    "train_size = int(len(data) * 0.8)\n",
    "train_data = data[:train_size]\n",
    "test_data = data[train_size:]\n",
    "\n",
    "# Initialize PyCaret time series module\n",
    "ts = setup(data=train_data, session_id=123, time_series_features='date')\n",
    "\n",
    "# Train and tune ARIMA model\n",
    "best_model = compare_models(include=['arima'])\n",
    "\n",
    "# Predict on test set\n",
    "predictions = predict_model(best_model, data=test_data)\n",
    "\n",
    "# Evaluate model performance\n",
    "evaluate_model(best_model)\n",
    "\n",
    "# Plot predictions against actual values\n",
    "plot_model(best_model, plot='forecast')\n"
   ]
  }
 ],
 "metadata": {
  "kernelspec": {
   "display_name": "portfolio",
   "language": "python",
   "name": "python3"
  },
  "language_info": {
   "codemirror_mode": {
    "name": "ipython",
    "version": 3
   },
   "file_extension": ".py",
   "mimetype": "text/x-python",
   "name": "python",
   "nbconvert_exporter": "python",
   "pygments_lexer": "ipython3",
   "version": "3.10.9"
  },
  "orig_nbformat": 4
 },
 "nbformat": 4,
 "nbformat_minor": 2
}
