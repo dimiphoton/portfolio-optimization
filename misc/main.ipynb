{
 "cells": [
  {
   "cell_type": "code",
   "execution_count": 1,
   "metadata": {},
   "outputs": [
    {
     "name": "stdout",
     "output_type": "stream",
     "text": [
      "import ok\n",
      "[*********************100%***********************]  3 of 3 completed\n"
     ]
    }
   ],
   "source": [
    "import yfinance as yf\n",
    "import pickle\n",
    "\n",
    "print(\"import ok\")\n",
    "# Define a list of stock symbols to download\n",
    "stock_symbols = [\"AAPL\", \"MSFT\", \"GOOG\"]\n",
    "\n",
    "# Set start and end dates for the historical data\n",
    "start_date = \"2010-01-01\"\n",
    "end_date = \"2021-12-31\"\n",
    "\n",
    "# Download the stock data using yfinance\n",
    "stock_data = yf.download(stock_symbols, start=start_date, end=end_date)"
   ]
  },
  {
   "cell_type": "code",
   "execution_count": 11,
   "metadata": {},
   "outputs": [],
   "source": [
    "data=stock_data['Adj Close']['GOOG']"
   ]
  },
  {
   "cell_type": "code",
   "execution_count": null,
   "metadata": {},
   "outputs": [],
   "source": [
    "# Import the necessary libraries\n",
    "from pycaret.regression import *\n",
    "\n",
    "# Initialize the Pycaret setup\n",
    "setup(data, target='target', session_id=123, silent=True)\n",
    "\n",
    "# Compare the performance of different regression models\n",
    "best_model = compare_models()\n",
    "\n",
    "# Train the best model on the data\n",
    "model = create_model(best_model)\n",
    "\n",
    "# Predict the stock values using the trained model\n",
    "predictions = predict_model(model, data)\n",
    "\n",
    "# Save the predictions to a CSV file\n",
    "predictions.to_csv('predictions.csv')\n"
   ]
  }
 ],
 "metadata": {
  "kernelspec": {
   "display_name": "finance",
   "language": "python",
   "name": "python3"
  },
  "language_info": {
   "codemirror_mode": {
    "name": "ipython",
    "version": 3
   },
   "file_extension": ".py",
   "mimetype": "text/x-python",
   "name": "python",
   "nbconvert_exporter": "python",
   "pygments_lexer": "ipython3",
   "version": "3.10.9"
  },
  "orig_nbformat": 4
 },
 "nbformat": 4,
 "nbformat_minor": 2
}
